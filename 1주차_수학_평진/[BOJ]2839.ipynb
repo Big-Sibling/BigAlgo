{
 "cells": [
  {
   "cell_type": "code",
   "execution_count": 14,
   "id": "0cee0075",
   "metadata": {
    "scrolled": true
   },
   "outputs": [
    {
     "name": "stdout",
     "output_type": "stream",
     "text": [
      "11\n",
      "3\n"
     ]
    }
   ],
   "source": [
    "n = int(input())\n",
    "cnt = 0\n",
    "\n",
    "while True:\n",
    "    \n",
    "    if n % 5 == 0:\n",
    "        print(cnt + n//5)\n",
    "        break\n",
    "        \n",
    "    else:\n",
    "        n -=3\n",
    "        cnt +=1\n",
    "        \n",
    "    if n < 0:\n",
    "        print(-1)\n",
    "        break"
   ]
  },
  {
   "cell_type": "markdown",
   "id": "46832f09",
   "metadata": {},
   "source": [
    "다른풀이"
   ]
  },
  {
   "cell_type": "code",
   "execution_count": null,
   "id": "27b2d3e0",
   "metadata": {},
   "outputs": [],
   "source": [
    "x = int(input())\n",
    "a = 0\n",
    "while x >= 0:\n",
    "    if x % 5 == 0:\n",
    "        a += (x//5)\n",
    "        print(a)\n",
    "        break\n",
    "    x = x - 3\n",
    "    a = a + 1\n",
    "else:\n",
    "    print(-1)"
   ]
  }
 ],
 "metadata": {
  "kernelspec": {
   "display_name": "Python 3 (ipykernel)",
   "language": "python",
   "name": "python3"
  },
  "language_info": {
   "codemirror_mode": {
    "name": "ipython",
    "version": 3
   },
   "file_extension": ".py",
   "mimetype": "text/x-python",
   "name": "python",
   "nbconvert_exporter": "python",
   "pygments_lexer": "ipython3",
   "version": "3.9.13"
  }
 },
 "nbformat": 4,
 "nbformat_minor": 5
}
