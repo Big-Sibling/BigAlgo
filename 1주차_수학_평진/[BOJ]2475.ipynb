{
 "cells": [
  {
   "cell_type": "code",
   "execution_count": 2,
   "id": "e28c7164",
   "metadata": {},
   "outputs": [
    {
     "name": "stdout",
     "output_type": "stream",
     "text": [
      "0 4 2 5 6\n",
      "1\n"
     ]
    }
   ],
   "source": [
    "nums = map(int, input().split())\n",
    "\n",
    "print(sum([x**2 for x in nums]) % 10)"
   ]
  },
  {
   "cell_type": "markdown",
   "id": "9fedbbdd",
   "metadata": {},
   "source": [
    "다른사람"
   ]
  },
  {
   "cell_type": "code",
   "execution_count": null,
   "id": "356f5c23",
   "metadata": {},
   "outputs": [],
   "source": [
    "print(sum(int(a)**2for a in input()[::2])%10)"
   ]
  }
 ],
 "metadata": {
  "kernelspec": {
   "display_name": "Python 3 (ipykernel)",
   "language": "python",
   "name": "python3"
  },
  "language_info": {
   "codemirror_mode": {
    "name": "ipython",
    "version": 3
   },
   "file_extension": ".py",
   "mimetype": "text/x-python",
   "name": "python",
   "nbconvert_exporter": "python",
   "pygments_lexer": "ipython3",
   "version": "3.9.13"
  }
 },
 "nbformat": 4,
 "nbformat_minor": 5
}
