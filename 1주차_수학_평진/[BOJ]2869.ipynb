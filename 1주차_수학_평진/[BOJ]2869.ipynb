{
 "cells": [
  {
   "cell_type": "markdown",
   "id": "1c24a1d5",
   "metadata": {},
   "source": [
    "# 내풀이"
   ]
  },
  {
   "cell_type": "code",
   "execution_count": 3,
   "id": "26bdd3a4",
   "metadata": {},
   "outputs": [
    {
     "name": "stdout",
     "output_type": "stream",
     "text": [
      "100 99 1000000000\n",
      "999999901\n"
     ]
    }
   ],
   "source": [
    "import math\n",
    "\n",
    "A, B, V = map(int, input().split())\n",
    "n = math.ceil((V-B)/(A-B))\n",
    "print(n)"
   ]
  },
  {
   "cell_type": "markdown",
   "id": "36785e50",
   "metadata": {},
   "source": [
    "# 다른풀이"
   ]
  },
  {
   "cell_type": "code",
   "execution_count": 6,
   "id": "d1c5590f",
   "metadata": {
    "scrolled": false
   },
   "outputs": [
    {
     "name": "stdout",
     "output_type": "stream",
     "text": [
      "2 1 5\n",
      "4\n"
     ]
    }
   ],
   "source": [
    "a,b,h = map(int,input().split())\n",
    "print((h-b-1)//(a-b)+1)"
   ]
  }
 ],
 "metadata": {
  "kernelspec": {
   "display_name": "Python 3 (ipykernel)",
   "language": "python",
   "name": "python3"
  },
  "language_info": {
   "codemirror_mode": {
    "name": "ipython",
    "version": 3
   },
   "file_extension": ".py",
   "mimetype": "text/x-python",
   "name": "python",
   "nbconvert_exporter": "python",
   "pygments_lexer": "ipython3",
   "version": "3.9.13"
  }
 },
 "nbformat": 4,
 "nbformat_minor": 5
}
